{
 "cells": [
  {
   "cell_type": "code",
   "id": "initial_id",
   "metadata": {
    "collapsed": true,
    "ExecuteTime": {
     "end_time": "2024-05-17T13:59:15.015537Z",
     "start_time": "2024-05-17T13:59:07.429041Z"
    }
   },
   "source": [
    "import requests\n",
    "import pandas as pd\n",
    "import censusdis.data as ced\n",
    "from censusdis import states\n",
    "from sklearn.model_selection import train_test_split\n",
    "from sklearn.ensemble import RandomForestRegressor\n",
    "from sklearn.linear_model import LinearRegression\n",
    "from sklearn.metrics import mean_squared_error\n",
    "from pycaret.regression import *"
   ],
   "outputs": [],
   "execution_count": 1
  },
  {
   "metadata": {
    "ExecuteTime": {
     "end_time": "2024-05-17T14:02:20.292927Z",
     "start_time": "2024-05-17T14:02:20.287204Z"
    }
   },
   "cell_type": "code",
   "source": [
    "#variables of interest\n",
    "download_variables=['NAME', 'B15003_022E', 'B25077_001E']\n"
   ],
   "id": "3a7bd28462f6c1ff",
   "outputs": [],
   "execution_count": 2
  },
  {
   "metadata": {
    "ExecuteTime": {
     "end_time": "2024-05-17T14:02:56.657275Z",
     "start_time": "2024-05-17T14:02:38.047802Z"
    }
   },
   "cell_type": "code",
   "source": [
    "#download data\n",
    "df_2022 = ced.download(\n",
    "    \n",
    "    # Data set: American Community Survey 5-Year\n",
    "    dataset='acs/acs5',\n",
    "    \n",
    "    # Vintage: 2022\n",
    "    vintage=2022, \n",
    "    \n",
    "    # Variable: median household income\n",
    "    download_variables=download_variables, \n",
    "    \n",
    "    # Geography: Georgia State\n",
    "    state=\"*\",\n",
    "    county=\"*\",\n",
    "    \n",
    "    with_geometry=True\n",
    ")\n",
    "\n",
    "df_2022.head()\n"
   ],
   "id": "2a72e438eceb86ac",
   "outputs": [
    {
     "data": {
      "text/plain": [
       "  STATE COUNTY                     NAME  B15003_022E  B25077_001E  \\\n",
       "0    01    001  Autauga County, Alabama         6726     191800.0   \n",
       "1    01    003  Baldwin County, Alabama        33474     266000.0   \n",
       "2    01    005  Barbour County, Alabama         1167     102700.0   \n",
       "3    01    007     Bibb County, Alabama         1047     120100.0   \n",
       "4    01    009   Blount County, Alabama         3840     159800.0   \n",
       "\n",
       "                                            geometry  \n",
       "0  POLYGON ((-86.92120 32.65754, -86.92035 32.658...  \n",
       "1  POLYGON ((-88.02858 30.22676, -88.02399 30.230...  \n",
       "2  POLYGON ((-85.74803 31.61918, -85.74544 31.618...  \n",
       "3  POLYGON ((-87.42194 33.00338, -87.31854 33.006...  \n",
       "4  POLYGON ((-86.96336 33.85822, -86.95967 33.857...  "
      ],
      "text/html": [
       "<div>\n",
       "<style scoped>\n",
       "    .dataframe tbody tr th:only-of-type {\n",
       "        vertical-align: middle;\n",
       "    }\n",
       "\n",
       "    .dataframe tbody tr th {\n",
       "        vertical-align: top;\n",
       "    }\n",
       "\n",
       "    .dataframe thead th {\n",
       "        text-align: right;\n",
       "    }\n",
       "</style>\n",
       "<table border=\"1\" class=\"dataframe\">\n",
       "  <thead>\n",
       "    <tr style=\"text-align: right;\">\n",
       "      <th></th>\n",
       "      <th>STATE</th>\n",
       "      <th>COUNTY</th>\n",
       "      <th>NAME</th>\n",
       "      <th>B15003_022E</th>\n",
       "      <th>B25077_001E</th>\n",
       "      <th>geometry</th>\n",
       "    </tr>\n",
       "  </thead>\n",
       "  <tbody>\n",
       "    <tr>\n",
       "      <th>0</th>\n",
       "      <td>01</td>\n",
       "      <td>001</td>\n",
       "      <td>Autauga County, Alabama</td>\n",
       "      <td>6726</td>\n",
       "      <td>191800.0</td>\n",
       "      <td>POLYGON ((-86.92120 32.65754, -86.92035 32.658...</td>\n",
       "    </tr>\n",
       "    <tr>\n",
       "      <th>1</th>\n",
       "      <td>01</td>\n",
       "      <td>003</td>\n",
       "      <td>Baldwin County, Alabama</td>\n",
       "      <td>33474</td>\n",
       "      <td>266000.0</td>\n",
       "      <td>POLYGON ((-88.02858 30.22676, -88.02399 30.230...</td>\n",
       "    </tr>\n",
       "    <tr>\n",
       "      <th>2</th>\n",
       "      <td>01</td>\n",
       "      <td>005</td>\n",
       "      <td>Barbour County, Alabama</td>\n",
       "      <td>1167</td>\n",
       "      <td>102700.0</td>\n",
       "      <td>POLYGON ((-85.74803 31.61918, -85.74544 31.618...</td>\n",
       "    </tr>\n",
       "    <tr>\n",
       "      <th>3</th>\n",
       "      <td>01</td>\n",
       "      <td>007</td>\n",
       "      <td>Bibb County, Alabama</td>\n",
       "      <td>1047</td>\n",
       "      <td>120100.0</td>\n",
       "      <td>POLYGON ((-87.42194 33.00338, -87.31854 33.006...</td>\n",
       "    </tr>\n",
       "    <tr>\n",
       "      <th>4</th>\n",
       "      <td>01</td>\n",
       "      <td>009</td>\n",
       "      <td>Blount County, Alabama</td>\n",
       "      <td>3840</td>\n",
       "      <td>159800.0</td>\n",
       "      <td>POLYGON ((-86.96336 33.85822, -86.95967 33.857...</td>\n",
       "    </tr>\n",
       "  </tbody>\n",
       "</table>\n",
       "</div>"
      ]
     },
     "execution_count": 3,
     "metadata": {},
     "output_type": "execute_result"
    }
   ],
   "execution_count": 3
  },
  {
   "metadata": {
    "ExecuteTime": {
     "end_time": "2024-05-17T14:03:12.103339Z",
     "start_time": "2024-05-17T14:03:12.099184Z"
    }
   },
   "cell_type": "code",
   "source": [
    "#add year column with value 2022 for the entire dataset\n",
    "df_2022['year'] = 2022"
   ],
   "id": "e92ae2edd87e73d3",
   "outputs": [],
   "execution_count": 4
  },
  {
   "metadata": {
    "ExecuteTime": {
     "end_time": "2024-05-17T14:03:14.217721Z",
     "start_time": "2024-05-17T14:03:14.212803Z"
    }
   },
   "cell_type": "code",
   "source": [
    "#change variable name to more descriptive names B15003_022E = median_bachelor, B25077_001E = median_income\n",
    "df_2022.rename(columns={'B15003_022E': 'median_bachelor_edu', 'B25077_001E': 'median_home_value'}, inplace=True)"
   ],
   "id": "dd467d808adf3ea5",
   "outputs": [],
   "execution_count": 5
  },
  {
   "metadata": {
    "ExecuteTime": {
     "end_time": "2024-05-17T14:03:38.191408Z",
     "start_time": "2024-05-17T14:03:27.964763Z"
    }
   },
   "cell_type": "code",
   "source": [
    "#Get data for 2018\n",
    "df_2018 = ced.download(\n",
    "    \n",
    "    # Data set: American Community Survey 5-Year\n",
    "    dataset='acs/acs5',\n",
    "    \n",
    "    # Vintage: 2018\n",
    "    vintage=2018, \n",
    "    \n",
    "    # Variable: median household income\n",
    "    download_variables=download_variables, \n",
    "    \n",
    "    # Geography: Georgia State\n",
    "    state=\"*\",\n",
    "    county=\"*\",\n",
    "    \n",
    "    with_geometry=True\n",
    ")\n",
    "\n",
    "#add year column with value 2018 for the entire dataset\n",
    "df_2018['year'] = 2018\n",
    "\n",
    "#rename variables\n",
    "df_2018.rename(columns={'B15003_022E': 'median_bachelor_edu', 'B25077_001E': 'median_home_value'}, inplace=True)\n",
    "\n",
    "df_2018.head()\n"
   ],
   "id": "cfaf972f4114352",
   "outputs": [
    {
     "data": {
      "text/plain": [
       "  STATE COUNTY                     NAME  median_bachelor_edu  \\\n",
       "0    20    173  Sedgwick County, Kansas                65704   \n",
       "1    20    157  Republic County, Kansas                  494   \n",
       "2    20    065    Graham County, Kansas                  385   \n",
       "3    20    045   Douglas County, Kansas                17876   \n",
       "4    20    179  Sheridan County, Kansas                  303   \n",
       "\n",
       "   median_home_value                                           geometry  year  \n",
       "0           135600.0  POLYGON ((-97.80835 37.64679, -97.80672 37.654...  2018  \n",
       "1            62800.0  POLYGON ((-97.93342 39.82744, -97.93219 39.885...  2018  \n",
       "2            70100.0  POLYGON ((-100.16357 39.24778, -100.16354 39.2...  2018  \n",
       "3           192800.0  POLYGON ((-95.50140 39.02951, -95.50149 39.043...  2018  \n",
       "4           106900.0  POLYGON ((-100.72147 39.19128, -100.72128 39.2...  2018  "
      ],
      "text/html": [
       "<div>\n",
       "<style scoped>\n",
       "    .dataframe tbody tr th:only-of-type {\n",
       "        vertical-align: middle;\n",
       "    }\n",
       "\n",
       "    .dataframe tbody tr th {\n",
       "        vertical-align: top;\n",
       "    }\n",
       "\n",
       "    .dataframe thead th {\n",
       "        text-align: right;\n",
       "    }\n",
       "</style>\n",
       "<table border=\"1\" class=\"dataframe\">\n",
       "  <thead>\n",
       "    <tr style=\"text-align: right;\">\n",
       "      <th></th>\n",
       "      <th>STATE</th>\n",
       "      <th>COUNTY</th>\n",
       "      <th>NAME</th>\n",
       "      <th>median_bachelor_edu</th>\n",
       "      <th>median_home_value</th>\n",
       "      <th>geometry</th>\n",
       "      <th>year</th>\n",
       "    </tr>\n",
       "  </thead>\n",
       "  <tbody>\n",
       "    <tr>\n",
       "      <th>0</th>\n",
       "      <td>20</td>\n",
       "      <td>173</td>\n",
       "      <td>Sedgwick County, Kansas</td>\n",
       "      <td>65704</td>\n",
       "      <td>135600.0</td>\n",
       "      <td>POLYGON ((-97.80835 37.64679, -97.80672 37.654...</td>\n",
       "      <td>2018</td>\n",
       "    </tr>\n",
       "    <tr>\n",
       "      <th>1</th>\n",
       "      <td>20</td>\n",
       "      <td>157</td>\n",
       "      <td>Republic County, Kansas</td>\n",
       "      <td>494</td>\n",
       "      <td>62800.0</td>\n",
       "      <td>POLYGON ((-97.93342 39.82744, -97.93219 39.885...</td>\n",
       "      <td>2018</td>\n",
       "    </tr>\n",
       "    <tr>\n",
       "      <th>2</th>\n",
       "      <td>20</td>\n",
       "      <td>065</td>\n",
       "      <td>Graham County, Kansas</td>\n",
       "      <td>385</td>\n",
       "      <td>70100.0</td>\n",
       "      <td>POLYGON ((-100.16357 39.24778, -100.16354 39.2...</td>\n",
       "      <td>2018</td>\n",
       "    </tr>\n",
       "    <tr>\n",
       "      <th>3</th>\n",
       "      <td>20</td>\n",
       "      <td>045</td>\n",
       "      <td>Douglas County, Kansas</td>\n",
       "      <td>17876</td>\n",
       "      <td>192800.0</td>\n",
       "      <td>POLYGON ((-95.50140 39.02951, -95.50149 39.043...</td>\n",
       "      <td>2018</td>\n",
       "    </tr>\n",
       "    <tr>\n",
       "      <th>4</th>\n",
       "      <td>20</td>\n",
       "      <td>179</td>\n",
       "      <td>Sheridan County, Kansas</td>\n",
       "      <td>303</td>\n",
       "      <td>106900.0</td>\n",
       "      <td>POLYGON ((-100.72147 39.19128, -100.72128 39.2...</td>\n",
       "      <td>2018</td>\n",
       "    </tr>\n",
       "  </tbody>\n",
       "</table>\n",
       "</div>"
      ]
     },
     "execution_count": 6,
     "metadata": {},
     "output_type": "execute_result"
    }
   ],
   "execution_count": 6
  },
  {
   "metadata": {
    "ExecuteTime": {
     "end_time": "2024-05-17T14:03:46.069160Z",
     "start_time": "2024-05-17T14:03:46.045622Z"
    }
   },
   "cell_type": "code",
   "source": [
    "#arrange both datasets with ascending order of TRACT variable\n",
    "df_2018 = df_2018.sort_values(by='COUNTY')\n",
    "df_2022 = df_2022.sort_values(by='COUNTY')\n"
   ],
   "id": "567cfc54b7699cca",
   "outputs": [],
   "execution_count": 7
  },
  {
   "metadata": {
    "ExecuteTime": {
     "end_time": "2024-05-17T14:03:48.709561Z",
     "start_time": "2024-05-17T14:03:48.694339Z"
    }
   },
   "cell_type": "code",
   "source": [
    "#create change_median_bachelor_edu and change_median_home_value\n",
    "df_2022['change_median_bachelor_edu'] = (df_2022['median_bachelor_edu'] - df_2018['median_bachelor_edu']) / df_2018['median_bachelor_edu']\n",
    "df_2022['change_median_home_value'] = (df_2022['median_home_value'] - df_2018['median_home_value']) / df_2018['median_home_value']\n"
   ],
   "id": "92c39e4b16b14878",
   "outputs": [],
   "execution_count": 8
  },
  {
   "metadata": {
    "ExecuteTime": {
     "end_time": "2024-05-17T14:03:58.143659Z",
     "start_time": "2024-05-17T14:03:58.136184Z"
    }
   },
   "cell_type": "code",
   "source": [
    "#shift all values in change_median_bachelor_edu and change_median_home_value columns to ensure positive values\n",
    "\n",
    "#---change_median_bachelor_edu---\n",
    "# Step 1: Find the minimum value in the change_median_bachelor_edu column\n",
    "min_value_bachelor_edu = df_2022['change_median_bachelor_edu'].min()\n",
    "\n",
    "# Step 2: Adjust the minimum value by adding 1\n",
    "adjusted_min_value = abs(min_value_bachelor_edu) + 1\n",
    "\n",
    "# Step 3: Add this adjusted value to all values in the column\n",
    "df_2022['change_median_bachelor_edu'] += adjusted_min_value\n",
    "\n",
    "#---change_median_home_value---\n",
    "# Step 1: Find the minimum value in the change_median_home_value column\n",
    "min_value_home_value = df_2022['change_median_home_value'].min()\n",
    "\n",
    "# Step 2: Adjust the minimum value by adding 1\n",
    "adjusted_min_value_home = abs(min_value_home_value) + 1\n",
    "\n",
    "# Step 3: Add this adjusted value to all values in the column\n",
    "df_2022['change_median_home_value'] += adjusted_min_value_home\n",
    "\n"
   ],
   "id": "110c3c11cc00877c",
   "outputs": [],
   "execution_count": 9
  },
  {
   "metadata": {
    "ExecuteTime": {
     "end_time": "2024-05-17T14:03:59.517472Z",
     "start_time": "2024-05-17T14:03:59.508847Z"
    }
   },
   "cell_type": "code",
   "source": [
    "#scale the change_median_bachelor_edu and change_median_home_value columns by dividing by the maximum value in the column\n",
    "df_2022['change_median_bachelor_edu'] = df_2022['change_median_bachelor_edu'] / df_2022['change_median_bachelor_edu'].max()\n",
    "df_2022['change_median_home_value'] = df_2022['change_median_home_value'] / df_2022['change_median_home_value'].max()"
   ],
   "id": "def93d74b7ddc745",
   "outputs": [],
   "execution_count": 10
  },
  {
   "metadata": {
    "ExecuteTime": {
     "end_time": "2024-05-17T14:04:01.139705Z",
     "start_time": "2024-05-17T14:04:01.130791Z"
    }
   },
   "cell_type": "code",
   "source": [
    "#create new column called gentrification_index where we will multiply the two change columns\n",
    "df_2022['gentrification_index'] = df_2022['change_median_bachelor_edu'] * df_2022['change_median_home_value']\n",
    "\n"
   ],
   "id": "555891bcf32d6a19",
   "outputs": [],
   "execution_count": 11
  },
  {
   "metadata": {
    "ExecuteTime": {
     "end_time": "2024-05-17T14:04:03.524461Z",
     "start_time": "2024-05-17T14:04:03.504989Z"
    }
   },
   "cell_type": "code",
   "source": "df_2022.head()",
   "id": "5ba87ce099e3c923",
   "outputs": [
    {
     "data": {
      "text/plain": [
       "     STATE COUNTY                             NAME  median_bachelor_edu  \\\n",
       "0       01    001          Autauga County, Alabama                 6726   \n",
       "1797    35    001    Bernalillo County, New Mexico                93393   \n",
       "1830    36    001          Albany County, New York                47712   \n",
       "1892    37    001  Alamance County, North Carolina                21972   \n",
       "245     08    001           Adams County, Colorado                62602   \n",
       "\n",
       "      median_home_value                                           geometry  \\\n",
       "0              191800.0  POLYGON ((-86.92120 32.65754, -86.92035 32.658...   \n",
       "1797           247300.0  POLYGON ((-107.19676 35.21946, -107.17087 35.2...   \n",
       "1830           263800.0  POLYGON ((-74.26473 42.42013, -74.25602 42.437...   \n",
       "1892           197700.0  POLYGON ((-79.54192 35.88335, -79.54173 35.899...   \n",
       "245            425000.0  POLYGON ((-105.05329 39.85676, -105.05316 39.8...   \n",
       "\n",
       "      year  change_median_bachelor_edu  change_median_home_value  \\\n",
       "0     2022                         0.0                  0.151139   \n",
       "1797  2022                         0.0                  0.160789   \n",
       "1830  2022                         0.0                  0.128800   \n",
       "1892  2022                         0.0                  0.106220   \n",
       "245   2022                         0.0                  0.310845   \n",
       "\n",
       "      gentrification_index  \n",
       "0                      0.0  \n",
       "1797                   0.0  \n",
       "1830                   0.0  \n",
       "1892                   0.0  \n",
       "245                    0.0  "
      ],
      "text/html": [
       "<div>\n",
       "<style scoped>\n",
       "    .dataframe tbody tr th:only-of-type {\n",
       "        vertical-align: middle;\n",
       "    }\n",
       "\n",
       "    .dataframe tbody tr th {\n",
       "        vertical-align: top;\n",
       "    }\n",
       "\n",
       "    .dataframe thead th {\n",
       "        text-align: right;\n",
       "    }\n",
       "</style>\n",
       "<table border=\"1\" class=\"dataframe\">\n",
       "  <thead>\n",
       "    <tr style=\"text-align: right;\">\n",
       "      <th></th>\n",
       "      <th>STATE</th>\n",
       "      <th>COUNTY</th>\n",
       "      <th>NAME</th>\n",
       "      <th>median_bachelor_edu</th>\n",
       "      <th>median_home_value</th>\n",
       "      <th>geometry</th>\n",
       "      <th>year</th>\n",
       "      <th>change_median_bachelor_edu</th>\n",
       "      <th>change_median_home_value</th>\n",
       "      <th>gentrification_index</th>\n",
       "    </tr>\n",
       "  </thead>\n",
       "  <tbody>\n",
       "    <tr>\n",
       "      <th>0</th>\n",
       "      <td>01</td>\n",
       "      <td>001</td>\n",
       "      <td>Autauga County, Alabama</td>\n",
       "      <td>6726</td>\n",
       "      <td>191800.0</td>\n",
       "      <td>POLYGON ((-86.92120 32.65754, -86.92035 32.658...</td>\n",
       "      <td>2022</td>\n",
       "      <td>0.0</td>\n",
       "      <td>0.151139</td>\n",
       "      <td>0.0</td>\n",
       "    </tr>\n",
       "    <tr>\n",
       "      <th>1797</th>\n",
       "      <td>35</td>\n",
       "      <td>001</td>\n",
       "      <td>Bernalillo County, New Mexico</td>\n",
       "      <td>93393</td>\n",
       "      <td>247300.0</td>\n",
       "      <td>POLYGON ((-107.19676 35.21946, -107.17087 35.2...</td>\n",
       "      <td>2022</td>\n",
       "      <td>0.0</td>\n",
       "      <td>0.160789</td>\n",
       "      <td>0.0</td>\n",
       "    </tr>\n",
       "    <tr>\n",
       "      <th>1830</th>\n",
       "      <td>36</td>\n",
       "      <td>001</td>\n",
       "      <td>Albany County, New York</td>\n",
       "      <td>47712</td>\n",
       "      <td>263800.0</td>\n",
       "      <td>POLYGON ((-74.26473 42.42013, -74.25602 42.437...</td>\n",
       "      <td>2022</td>\n",
       "      <td>0.0</td>\n",
       "      <td>0.128800</td>\n",
       "      <td>0.0</td>\n",
       "    </tr>\n",
       "    <tr>\n",
       "      <th>1892</th>\n",
       "      <td>37</td>\n",
       "      <td>001</td>\n",
       "      <td>Alamance County, North Carolina</td>\n",
       "      <td>21972</td>\n",
       "      <td>197700.0</td>\n",
       "      <td>POLYGON ((-79.54192 35.88335, -79.54173 35.899...</td>\n",
       "      <td>2022</td>\n",
       "      <td>0.0</td>\n",
       "      <td>0.106220</td>\n",
       "      <td>0.0</td>\n",
       "    </tr>\n",
       "    <tr>\n",
       "      <th>245</th>\n",
       "      <td>08</td>\n",
       "      <td>001</td>\n",
       "      <td>Adams County, Colorado</td>\n",
       "      <td>62602</td>\n",
       "      <td>425000.0</td>\n",
       "      <td>POLYGON ((-105.05329 39.85676, -105.05316 39.8...</td>\n",
       "      <td>2022</td>\n",
       "      <td>0.0</td>\n",
       "      <td>0.310845</td>\n",
       "      <td>0.0</td>\n",
       "    </tr>\n",
       "  </tbody>\n",
       "</table>\n",
       "</div>"
      ]
     },
     "execution_count": 12,
     "metadata": {},
     "output_type": "execute_result"
    }
   ],
   "execution_count": 12
  },
  {
   "metadata": {
    "ExecuteTime": {
     "end_time": "2024-05-17T14:05:22.486035Z",
     "start_time": "2024-05-17T14:05:22.470946Z"
    }
   },
   "cell_type": "code",
   "source": [
    "#check for missing values\n",
    "df_2022.isnull().sum()\n",
    "\n",
    "#drop missing values\n",
    "df_2022 = df_2022.dropna()"
   ],
   "id": "1f47548bc5187d91",
   "outputs": [],
   "execution_count": 17
  },
  {
   "metadata": {
    "ExecuteTime": {
     "end_time": "2024-05-17T14:05:34.167680Z",
     "start_time": "2024-05-17T14:05:34.152535Z"
    }
   },
   "cell_type": "code",
   "source": "df_2022.isnull().sum()",
   "id": "7ae488f697efa021",
   "outputs": [
    {
     "data": {
      "text/plain": [
       "STATE                         0\n",
       "COUNTY                        0\n",
       "NAME                          0\n",
       "median_bachelor_edu           0\n",
       "median_home_value             0\n",
       "geometry                      0\n",
       "year                          0\n",
       "change_median_bachelor_edu    0\n",
       "change_median_home_value      0\n",
       "gentrification_index          0\n",
       "dtype: int64"
      ]
     },
     "execution_count": 18,
     "metadata": {},
     "output_type": "execute_result"
    }
   ],
   "execution_count": 18
  },
  {
   "metadata": {},
   "cell_type": "code",
   "outputs": [],
   "execution_count": null,
   "source": "#export the",
   "id": "34310dca81c1af0"
  },
  {
   "metadata": {
    "ExecuteTime": {
     "end_time": "2024-05-17T11:34:30.894528Z",
     "start_time": "2024-05-17T11:34:30.880152Z"
    }
   },
   "cell_type": "code",
   "source": [
    "# One hot encoding for the NAME column and put in 0 if false and 1 if true\n",
    "df_2022 = pd.get_dummies(df_2022, columns=['NAME'])\n",
    "\n",
    "#rename new columns by removing the NAME_ prefix\n",
    "df_2022.columns = df_2022.columns.str.replace('NAME_', '')"
   ],
   "id": "a218c39fddf0924b",
   "outputs": [],
   "execution_count": 311
  },
  {
   "metadata": {
    "ExecuteTime": {
     "end_time": "2024-05-17T11:34:52.837846Z",
     "start_time": "2024-05-17T11:34:52.831348Z"
    }
   },
   "cell_type": "code",
   "source": [
    "#drop columns that are not needed\n",
    "df_2022 = df_2022.drop(columns=['geometry', 'STATE', 'COUNTY', 'year', 'median_bachelor_edu', 'median_home_value', 'change_median_bachelor_edu', 'change_median_home_value'])"
   ],
   "id": "224c63958661b95a",
   "outputs": [],
   "execution_count": 313
  },
  {
   "metadata": {
    "ExecuteTime": {
     "end_time": "2024-05-17T11:35:26.299605Z",
     "start_time": "2024-05-17T11:35:26.287722Z"
    }
   },
   "cell_type": "code",
   "source": [
    "#split the data in training and test\n",
    "\n",
    "X = df_2022.drop(columns=['gentrification_index'])\n",
    "y = df_2022['gentrification_index']\n",
    "\n",
    "X_train, X_test, y_train, y_test = train_test_split(X, y, test_size=0.2, random_state=42)\n"
   ],
   "id": "cff067aa0426b128",
   "outputs": [],
   "execution_count": 314
  },
  {
   "metadata": {
    "ExecuteTime": {
     "end_time": "2024-05-17T11:35:28.773899Z",
     "start_time": "2024-05-17T11:35:27.804888Z"
    }
   },
   "cell_type": "code",
   "source": [
    "#initialize the models\n",
    "rf = RandomForestRegressor()\n",
    "lr = LinearRegression()\n",
    "\n",
    "#fit the models\n",
    "rf.fit(X_train, y_train)\n",
    "lr.fit(X_train, y_train)\n",
    "\n",
    "#predict\n",
    "rf_pred = rf.predict(X_test)\n",
    "lr_pred = lr.predict(X_test)"
   ],
   "id": "c87d7098ddcd571f",
   "outputs": [],
   "execution_count": 315
  },
  {
   "metadata": {
    "ExecuteTime": {
     "end_time": "2024-05-17T11:35:31.819240Z",
     "start_time": "2024-05-17T11:35:31.811933Z"
    }
   },
   "cell_type": "code",
   "source": [
    "#Evaluate the models\n",
    "\n",
    "#calculate the percentage error\n",
    "rf_error = abs(rf_pred - y_test) / y_test\n",
    "lr_error = abs(lr_pred - y_test) / y_test\n",
    "\n",
    "#calculate the mean percentage error\n",
    "rf_mean_error = rf_error.mean()\n",
    "lr_mean_error = lr_error.mean()\n",
    "\n",
    "print(f'Random Forest Mean Percentage Error: {rf_mean_error}')\n",
    "\n",
    "print(f'Linear Regression Mean Percentage Error: {lr_mean_error}')"
   ],
   "id": "f669397fa63717f3",
   "outputs": [
    {
     "name": "stdout",
     "output_type": "stream",
     "text": [
      "Random Forest Mean Percentage Error: 0.566122175328132\n",
      "Linear Regression Mean Percentage Error: 32.51564780596694\n"
     ]
    }
   ],
   "execution_count": 316
  },
  {
   "metadata": {
    "ExecuteTime": {
     "end_time": "2024-05-17T12:31:52.283848Z",
     "start_time": "2024-05-17T12:31:52.256033Z"
    }
   },
   "cell_type": "code",
   "source": [
    "#identify the conuty with highest gentrification index in df_2022\n",
    "df_2022[df_2022['gentrification_index'] == df_2022['gentrification_index'].max()]\n"
   ],
   "id": "e450732b3fe828d7",
   "outputs": [
    {
     "data": {
      "text/plain": [
       "    gentrification_index  Appling County, Georgia  Atkinson County, Georgia  \\\n",
       "66              0.729943                    False                     False   \n",
       "\n",
       "    Bacon County, Georgia  Baker County, Georgia  Baldwin County, Georgia  \\\n",
       "66                  False                  False                    False   \n",
       "\n",
       "    Banks County, Georgia  Barrow County, Georgia  Bartow County, Georgia  \\\n",
       "66                  False                   False                   False   \n",
       "\n",
       "    Ben Hill County, Georgia  ...  Washington County, Georgia  \\\n",
       "66                     False  ...                       False   \n",
       "\n",
       "    Wayne County, Georgia  Webster County, Georgia  Wheeler County, Georgia  \\\n",
       "66                  False                    False                    False   \n",
       "\n",
       "    White County, Georgia  Whitfield County, Georgia  Wilcox County, Georgia  \\\n",
       "66                  False                      False                   False   \n",
       "\n",
       "    Wilkes County, Georgia  Wilkinson County, Georgia  Worth County, Georgia  \n",
       "66                   False                      False                  False  \n",
       "\n",
       "[1 rows x 160 columns]"
      ],
      "text/html": [
       "<div>\n",
       "<style scoped>\n",
       "    .dataframe tbody tr th:only-of-type {\n",
       "        vertical-align: middle;\n",
       "    }\n",
       "\n",
       "    .dataframe tbody tr th {\n",
       "        vertical-align: top;\n",
       "    }\n",
       "\n",
       "    .dataframe thead th {\n",
       "        text-align: right;\n",
       "    }\n",
       "</style>\n",
       "<table border=\"1\" class=\"dataframe\">\n",
       "  <thead>\n",
       "    <tr style=\"text-align: right;\">\n",
       "      <th></th>\n",
       "      <th>gentrification_index</th>\n",
       "      <th>Appling County, Georgia</th>\n",
       "      <th>Atkinson County, Georgia</th>\n",
       "      <th>Bacon County, Georgia</th>\n",
       "      <th>Baker County, Georgia</th>\n",
       "      <th>Baldwin County, Georgia</th>\n",
       "      <th>Banks County, Georgia</th>\n",
       "      <th>Barrow County, Georgia</th>\n",
       "      <th>Bartow County, Georgia</th>\n",
       "      <th>Ben Hill County, Georgia</th>\n",
       "      <th>...</th>\n",
       "      <th>Washington County, Georgia</th>\n",
       "      <th>Wayne County, Georgia</th>\n",
       "      <th>Webster County, Georgia</th>\n",
       "      <th>Wheeler County, Georgia</th>\n",
       "      <th>White County, Georgia</th>\n",
       "      <th>Whitfield County, Georgia</th>\n",
       "      <th>Wilcox County, Georgia</th>\n",
       "      <th>Wilkes County, Georgia</th>\n",
       "      <th>Wilkinson County, Georgia</th>\n",
       "      <th>Worth County, Georgia</th>\n",
       "    </tr>\n",
       "  </thead>\n",
       "  <tbody>\n",
       "    <tr>\n",
       "      <th>66</th>\n",
       "      <td>0.729943</td>\n",
       "      <td>False</td>\n",
       "      <td>False</td>\n",
       "      <td>False</td>\n",
       "      <td>False</td>\n",
       "      <td>False</td>\n",
       "      <td>False</td>\n",
       "      <td>False</td>\n",
       "      <td>False</td>\n",
       "      <td>False</td>\n",
       "      <td>...</td>\n",
       "      <td>False</td>\n",
       "      <td>False</td>\n",
       "      <td>False</td>\n",
       "      <td>False</td>\n",
       "      <td>False</td>\n",
       "      <td>False</td>\n",
       "      <td>False</td>\n",
       "      <td>False</td>\n",
       "      <td>False</td>\n",
       "      <td>False</td>\n",
       "    </tr>\n",
       "  </tbody>\n",
       "</table>\n",
       "<p>1 rows × 160 columns</p>\n",
       "</div>"
      ]
     },
     "execution_count": 321,
     "metadata": {},
     "output_type": "execute_result"
    }
   ],
   "execution_count": 321
  },
  {
   "metadata": {
    "ExecuteTime": {
     "end_time": "2024-05-17T12:33:48.490946Z",
     "start_time": "2024-05-17T12:33:48.451721Z"
    }
   },
   "cell_type": "code",
   "source": [
    "#create a copy of the df_2022 dataset and remove the row with highest gentrification_index\n",
    "df_2022_copy = df_2022.copy()\n",
    "df_2022_copy = df_2022_copy.drop(df_2022_copy[df_2022_copy['gentrification_index'] == df_2022_copy['gentrification_index'].max()].index)\n",
    "\n",
    "#provide now the colum with th ehighest gentrification_index\n",
    "df_2022_copy[df_2022_copy['gentrification_index'] == df_2022_copy['gentrification_index'].max()]"
   ],
   "id": "b7cc78d28ece5f2b",
   "outputs": [
    {
     "data": {
      "text/plain": [
       "    gentrification_index  Appling County, Georgia  Atkinson County, Georgia  \\\n",
       "75              0.219944                    False                     False   \n",
       "\n",
       "    Bacon County, Georgia  Baker County, Georgia  Baldwin County, Georgia  \\\n",
       "75                  False                  False                    False   \n",
       "\n",
       "    Banks County, Georgia  Barrow County, Georgia  Bartow County, Georgia  \\\n",
       "75                  False                   False                   False   \n",
       "\n",
       "    Ben Hill County, Georgia  ...  Washington County, Georgia  \\\n",
       "75                     False  ...                       False   \n",
       "\n",
       "    Wayne County, Georgia  Webster County, Georgia  Wheeler County, Georgia  \\\n",
       "75                  False                    False                    False   \n",
       "\n",
       "    White County, Georgia  Whitfield County, Georgia  Wilcox County, Georgia  \\\n",
       "75                  False                      False                   False   \n",
       "\n",
       "    Wilkes County, Georgia  Wilkinson County, Georgia  Worth County, Georgia  \n",
       "75                   False                      False                  False  \n",
       "\n",
       "[1 rows x 160 columns]"
      ],
      "text/html": [
       "<div>\n",
       "<style scoped>\n",
       "    .dataframe tbody tr th:only-of-type {\n",
       "        vertical-align: middle;\n",
       "    }\n",
       "\n",
       "    .dataframe tbody tr th {\n",
       "        vertical-align: top;\n",
       "    }\n",
       "\n",
       "    .dataframe thead th {\n",
       "        text-align: right;\n",
       "    }\n",
       "</style>\n",
       "<table border=\"1\" class=\"dataframe\">\n",
       "  <thead>\n",
       "    <tr style=\"text-align: right;\">\n",
       "      <th></th>\n",
       "      <th>gentrification_index</th>\n",
       "      <th>Appling County, Georgia</th>\n",
       "      <th>Atkinson County, Georgia</th>\n",
       "      <th>Bacon County, Georgia</th>\n",
       "      <th>Baker County, Georgia</th>\n",
       "      <th>Baldwin County, Georgia</th>\n",
       "      <th>Banks County, Georgia</th>\n",
       "      <th>Barrow County, Georgia</th>\n",
       "      <th>Bartow County, Georgia</th>\n",
       "      <th>Ben Hill County, Georgia</th>\n",
       "      <th>...</th>\n",
       "      <th>Washington County, Georgia</th>\n",
       "      <th>Wayne County, Georgia</th>\n",
       "      <th>Webster County, Georgia</th>\n",
       "      <th>Wheeler County, Georgia</th>\n",
       "      <th>White County, Georgia</th>\n",
       "      <th>Whitfield County, Georgia</th>\n",
       "      <th>Wilcox County, Georgia</th>\n",
       "      <th>Wilkes County, Georgia</th>\n",
       "      <th>Wilkinson County, Georgia</th>\n",
       "      <th>Worth County, Georgia</th>\n",
       "    </tr>\n",
       "  </thead>\n",
       "  <tbody>\n",
       "    <tr>\n",
       "      <th>75</th>\n",
       "      <td>0.219944</td>\n",
       "      <td>False</td>\n",
       "      <td>False</td>\n",
       "      <td>False</td>\n",
       "      <td>False</td>\n",
       "      <td>False</td>\n",
       "      <td>False</td>\n",
       "      <td>False</td>\n",
       "      <td>False</td>\n",
       "      <td>False</td>\n",
       "      <td>...</td>\n",
       "      <td>False</td>\n",
       "      <td>False</td>\n",
       "      <td>False</td>\n",
       "      <td>False</td>\n",
       "      <td>False</td>\n",
       "      <td>False</td>\n",
       "      <td>False</td>\n",
       "      <td>False</td>\n",
       "      <td>False</td>\n",
       "      <td>False</td>\n",
       "    </tr>\n",
       "  </tbody>\n",
       "</table>\n",
       "<p>1 rows × 160 columns</p>\n",
       "</div>"
      ]
     },
     "execution_count": 325,
     "metadata": {},
     "output_type": "execute_result"
    }
   ],
   "execution_count": 325
  },
  {
   "metadata": {},
   "cell_type": "code",
   "outputs": [],
   "execution_count": null,
   "source": "",
   "id": "db7119b7c4676c90"
  }
 ],
 "metadata": {
  "kernelspec": {
   "display_name": "Python 3",
   "language": "python",
   "name": "python3"
  },
  "language_info": {
   "codemirror_mode": {
    "name": "ipython",
    "version": 2
   },
   "file_extension": ".py",
   "mimetype": "text/x-python",
   "name": "python",
   "nbconvert_exporter": "python",
   "pygments_lexer": "ipython2",
   "version": "2.7.6"
  }
 },
 "nbformat": 4,
 "nbformat_minor": 5
}
