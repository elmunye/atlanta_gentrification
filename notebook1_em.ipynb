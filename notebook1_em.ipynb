{
 "cells": [
  {
   "cell_type": "code",
   "id": "initial_id",
   "metadata": {
    "collapsed": true,
    "ExecuteTime": {
     "end_time": "2024-05-17T08:31:09.240047Z",
     "start_time": "2024-05-17T08:31:04.016383Z"
    }
   },
   "source": [
    "import requests\n",
    "import pandas as pd\n",
    "import censusdis.data as ced\n",
    "from censusdis import states\n",
    "from sklearn.model_selection import train_test_split\n",
    "from sklearn.ensemble import RandomForestRegressor\n",
    "from sklearn.linear_model import LinearRegression\n",
    "from sklearn.metrics import mean_squared_error\n",
    "from pycaret.regression import *"
   ],
   "outputs": [],
   "execution_count": 1
  },
  {
   "metadata": {
    "ExecuteTime": {
     "end_time": "2024-05-17T11:32:38.098081Z",
     "start_time": "2024-05-17T11:32:38.084528Z"
    }
   },
   "cell_type": "code",
   "source": [
    "#variables of interest\n",
    "download_variables=['NAME', 'B15003_022E', 'B25077_001E']\n"
   ],
   "id": "3a7bd28462f6c1ff",
   "outputs": [],
   "execution_count": 298
  },
  {
   "metadata": {
    "ExecuteTime": {
     "end_time": "2024-05-17T11:32:43.998933Z",
     "start_time": "2024-05-17T11:32:38.689030Z"
    }
   },
   "cell_type": "code",
   "source": [
    "#download data\n",
    "df_2022 = ced.download(\n",
    "    \n",
    "    # Data set: American Community Survey 5-Year\n",
    "    dataset='acs/acs5',\n",
    "    \n",
    "    # Vintage: 2022\n",
    "    vintage=2022, \n",
    "    \n",
    "    # Variable: median household income\n",
    "    download_variables=download_variables, \n",
    "    \n",
    "    # Geography: Georgia State\n",
    "    state=states.GA,\n",
    "    county=\"*\",\n",
    "    \n",
    "    with_geometry=True\n",
    ")\n",
    "\n",
    "df_2022.head()\n"
   ],
   "id": "2a72e438eceb86ac",
   "outputs": [
    {
     "data": {
      "text/plain": [
       "  STATE COUNTY                      NAME  B15003_022E  B25077_001E  \\\n",
       "0    13    001   Appling County, Georgia          676        88500   \n",
       "1    13    003  Atkinson County, Georgia          306        77100   \n",
       "2    13    005     Bacon County, Georgia          373        95600   \n",
       "3    13    007     Baker County, Georgia          227       121600   \n",
       "4    13    009   Baldwin County, Georgia         3770       154400   \n",
       "\n",
       "                                            geometry  \n",
       "0  POLYGON ((-82.55069 31.74911, -82.54744 31.749...  \n",
       "1  POLYGON ((-83.14100 31.40673, -83.13898 31.408...  \n",
       "2  POLYGON ((-82.62819 31.56593, -82.62734 31.672...  \n",
       "3  POLYGON ((-84.64166 31.31250, -84.63994 31.312...  \n",
       "4  POLYGON ((-83.42674 33.18273, -83.42496 33.182...  "
      ],
      "text/html": [
       "<div>\n",
       "<style scoped>\n",
       "    .dataframe tbody tr th:only-of-type {\n",
       "        vertical-align: middle;\n",
       "    }\n",
       "\n",
       "    .dataframe tbody tr th {\n",
       "        vertical-align: top;\n",
       "    }\n",
       "\n",
       "    .dataframe thead th {\n",
       "        text-align: right;\n",
       "    }\n",
       "</style>\n",
       "<table border=\"1\" class=\"dataframe\">\n",
       "  <thead>\n",
       "    <tr style=\"text-align: right;\">\n",
       "      <th></th>\n",
       "      <th>STATE</th>\n",
       "      <th>COUNTY</th>\n",
       "      <th>NAME</th>\n",
       "      <th>B15003_022E</th>\n",
       "      <th>B25077_001E</th>\n",
       "      <th>geometry</th>\n",
       "    </tr>\n",
       "  </thead>\n",
       "  <tbody>\n",
       "    <tr>\n",
       "      <th>0</th>\n",
       "      <td>13</td>\n",
       "      <td>001</td>\n",
       "      <td>Appling County, Georgia</td>\n",
       "      <td>676</td>\n",
       "      <td>88500</td>\n",
       "      <td>POLYGON ((-82.55069 31.74911, -82.54744 31.749...</td>\n",
       "    </tr>\n",
       "    <tr>\n",
       "      <th>1</th>\n",
       "      <td>13</td>\n",
       "      <td>003</td>\n",
       "      <td>Atkinson County, Georgia</td>\n",
       "      <td>306</td>\n",
       "      <td>77100</td>\n",
       "      <td>POLYGON ((-83.14100 31.40673, -83.13898 31.408...</td>\n",
       "    </tr>\n",
       "    <tr>\n",
       "      <th>2</th>\n",
       "      <td>13</td>\n",
       "      <td>005</td>\n",
       "      <td>Bacon County, Georgia</td>\n",
       "      <td>373</td>\n",
       "      <td>95600</td>\n",
       "      <td>POLYGON ((-82.62819 31.56593, -82.62734 31.672...</td>\n",
       "    </tr>\n",
       "    <tr>\n",
       "      <th>3</th>\n",
       "      <td>13</td>\n",
       "      <td>007</td>\n",
       "      <td>Baker County, Georgia</td>\n",
       "      <td>227</td>\n",
       "      <td>121600</td>\n",
       "      <td>POLYGON ((-84.64166 31.31250, -84.63994 31.312...</td>\n",
       "    </tr>\n",
       "    <tr>\n",
       "      <th>4</th>\n",
       "      <td>13</td>\n",
       "      <td>009</td>\n",
       "      <td>Baldwin County, Georgia</td>\n",
       "      <td>3770</td>\n",
       "      <td>154400</td>\n",
       "      <td>POLYGON ((-83.42674 33.18273, -83.42496 33.182...</td>\n",
       "    </tr>\n",
       "  </tbody>\n",
       "</table>\n",
       "</div>"
      ]
     },
     "execution_count": 299,
     "metadata": {},
     "output_type": "execute_result"
    }
   ],
   "execution_count": 299
  },
  {
   "metadata": {
    "ExecuteTime": {
     "end_time": "2024-05-17T11:32:45.102534Z",
     "start_time": "2024-05-17T11:32:45.098188Z"
    }
   },
   "cell_type": "code",
   "source": [
    "#add year column with value 2022 for the entire dataset\n",
    "df_2022['year'] = 2022"
   ],
   "id": "e92ae2edd87e73d3",
   "outputs": [],
   "execution_count": 300
  },
  {
   "metadata": {
    "ExecuteTime": {
     "end_time": "2024-05-17T11:32:47.843761Z",
     "start_time": "2024-05-17T11:32:47.830994Z"
    }
   },
   "cell_type": "code",
   "source": [
    "#change variable name to more descriptive names B15003_022E = median_bachelor, B25077_001E = median_income\n",
    "df_2022.rename(columns={'B15003_022E': 'median_bachelor_edu', 'B25077_001E': 'median_home_value'}, inplace=True)"
   ],
   "id": "dd467d808adf3ea5",
   "outputs": [],
   "execution_count": 301
  },
  {
   "metadata": {
    "ExecuteTime": {
     "end_time": "2024-05-17T11:33:01.716910Z",
     "start_time": "2024-05-17T11:32:57.382909Z"
    }
   },
   "cell_type": "code",
   "source": [
    "#Get data for 2018\n",
    "df_2018 = ced.download(\n",
    "    \n",
    "    # Data set: American Community Survey 5-Year\n",
    "    dataset='acs/acs5',\n",
    "    \n",
    "    # Vintage: 2018\n",
    "    vintage=2018, \n",
    "    \n",
    "    # Variable: median household income\n",
    "    download_variables=download_variables, \n",
    "    \n",
    "    # Geography: Georgia State\n",
    "    state=states.GA,\n",
    "    county=\"*\",\n",
    "    \n",
    "    with_geometry=True\n",
    ")\n",
    "\n",
    "#add year column with value 2018 for the entire dataset\n",
    "df_2018['year'] = 2018\n",
    "\n",
    "#rename variables\n",
    "df_2018.rename(columns={'B15003_022E': 'median_bachelor_edu', 'B25077_001E': 'median_home_value'}, inplace=True)\n",
    "\n",
    "df_2018.head()\n"
   ],
   "id": "cfaf972f4114352",
   "outputs": [
    {
     "data": {
      "text/plain": [
       "  STATE COUNTY                      NAME  median_bachelor_edu  \\\n",
       "0    13    005     Bacon County, Georgia                  439   \n",
       "1    13    025  Brantley County, Georgia                  557   \n",
       "2    13    017  Ben Hill County, Georgia                  843   \n",
       "3    13    033     Burke County, Georgia                 1111   \n",
       "4    13    047   Catoosa County, Georgia                 6259   \n",
       "\n",
       "   median_home_value                                           geometry  year  \n",
       "0              73000  POLYGON ((-82.62819 31.56593, -82.62734 31.672...  2018  \n",
       "1              68200  POLYGON ((-82.28456 31.22445, -82.28371 31.226...  2018  \n",
       "2              80100  POLYGON ((-83.48453 31.83552, -83.48312 31.838...  2018  \n",
       "3              87900  POLYGON ((-82.31651 32.83577, -82.29147 32.888...  2018  \n",
       "4             140000  POLYGON ((-85.26505 34.98508, -85.25495 34.985...  2018  "
      ],
      "text/html": [
       "<div>\n",
       "<style scoped>\n",
       "    .dataframe tbody tr th:only-of-type {\n",
       "        vertical-align: middle;\n",
       "    }\n",
       "\n",
       "    .dataframe tbody tr th {\n",
       "        vertical-align: top;\n",
       "    }\n",
       "\n",
       "    .dataframe thead th {\n",
       "        text-align: right;\n",
       "    }\n",
       "</style>\n",
       "<table border=\"1\" class=\"dataframe\">\n",
       "  <thead>\n",
       "    <tr style=\"text-align: right;\">\n",
       "      <th></th>\n",
       "      <th>STATE</th>\n",
       "      <th>COUNTY</th>\n",
       "      <th>NAME</th>\n",
       "      <th>median_bachelor_edu</th>\n",
       "      <th>median_home_value</th>\n",
       "      <th>geometry</th>\n",
       "      <th>year</th>\n",
       "    </tr>\n",
       "  </thead>\n",
       "  <tbody>\n",
       "    <tr>\n",
       "      <th>0</th>\n",
       "      <td>13</td>\n",
       "      <td>005</td>\n",
       "      <td>Bacon County, Georgia</td>\n",
       "      <td>439</td>\n",
       "      <td>73000</td>\n",
       "      <td>POLYGON ((-82.62819 31.56593, -82.62734 31.672...</td>\n",
       "      <td>2018</td>\n",
       "    </tr>\n",
       "    <tr>\n",
       "      <th>1</th>\n",
       "      <td>13</td>\n",
       "      <td>025</td>\n",
       "      <td>Brantley County, Georgia</td>\n",
       "      <td>557</td>\n",
       "      <td>68200</td>\n",
       "      <td>POLYGON ((-82.28456 31.22445, -82.28371 31.226...</td>\n",
       "      <td>2018</td>\n",
       "    </tr>\n",
       "    <tr>\n",
       "      <th>2</th>\n",
       "      <td>13</td>\n",
       "      <td>017</td>\n",
       "      <td>Ben Hill County, Georgia</td>\n",
       "      <td>843</td>\n",
       "      <td>80100</td>\n",
       "      <td>POLYGON ((-83.48453 31.83552, -83.48312 31.838...</td>\n",
       "      <td>2018</td>\n",
       "    </tr>\n",
       "    <tr>\n",
       "      <th>3</th>\n",
       "      <td>13</td>\n",
       "      <td>033</td>\n",
       "      <td>Burke County, Georgia</td>\n",
       "      <td>1111</td>\n",
       "      <td>87900</td>\n",
       "      <td>POLYGON ((-82.31651 32.83577, -82.29147 32.888...</td>\n",
       "      <td>2018</td>\n",
       "    </tr>\n",
       "    <tr>\n",
       "      <th>4</th>\n",
       "      <td>13</td>\n",
       "      <td>047</td>\n",
       "      <td>Catoosa County, Georgia</td>\n",
       "      <td>6259</td>\n",
       "      <td>140000</td>\n",
       "      <td>POLYGON ((-85.26505 34.98508, -85.25495 34.985...</td>\n",
       "      <td>2018</td>\n",
       "    </tr>\n",
       "  </tbody>\n",
       "</table>\n",
       "</div>"
      ]
     },
     "execution_count": 302,
     "metadata": {},
     "output_type": "execute_result"
    }
   ],
   "execution_count": 302
  },
  {
   "metadata": {
    "ExecuteTime": {
     "end_time": "2024-05-17T11:33:18.632692Z",
     "start_time": "2024-05-17T11:33:18.621141Z"
    }
   },
   "cell_type": "code",
   "source": [
    "#arrange both datasets with ascending order of TRACT variable\n",
    "df_2018 = df_2018.sort_values(by='COUNTY')\n",
    "df_2022 = df_2022.sort_values(by='COUNTY')\n"
   ],
   "id": "567cfc54b7699cca",
   "outputs": [],
   "execution_count": 304
  },
  {
   "metadata": {
    "ExecuteTime": {
     "end_time": "2024-05-17T11:34:02.437108Z",
     "start_time": "2024-05-17T11:34:02.428122Z"
    }
   },
   "cell_type": "code",
   "source": [
    "#create change_median_bachelor_edu and change_median_home_value\n",
    "df_2022['change_median_bachelor_edu'] = (df_2022['median_bachelor_edu'] - df_2018['median_bachelor_edu']) / df_2018['median_bachelor_edu']\n",
    "df_2022['change_median_home_value'] = (df_2022['median_home_value'] - df_2018['median_home_value']) / df_2018['median_home_value']\n"
   ],
   "id": "92c39e4b16b14878",
   "outputs": [],
   "execution_count": 305
  },
  {
   "metadata": {
    "ExecuteTime": {
     "end_time": "2024-05-17T11:34:18.045520Z",
     "start_time": "2024-05-17T11:34:18.033584Z"
    }
   },
   "cell_type": "code",
   "source": [
    "#shift all values in change_median_bachelor_edu and change_median_home_value columns to ensure positive values\n",
    "\n",
    "#---change_median_bachelor_edu---\n",
    "# Step 1: Find the minimum value in the change_median_bachelor_edu column\n",
    "min_value_bachelor_edu = df_2022['change_median_bachelor_edu'].min()\n",
    "\n",
    "# Step 2: Adjust the minimum value by adding 1\n",
    "adjusted_min_value = abs(min_value_bachelor_edu) + 1\n",
    "\n",
    "# Step 3: Add this adjusted value to all values in the column\n",
    "df_2022['change_median_bachelor_edu'] += adjusted_min_value\n",
    "\n",
    "#---change_median_home_value---\n",
    "# Step 1: Find the minimum value in the change_median_home_value column\n",
    "min_value_home_value = df_2022['change_median_home_value'].min()\n",
    "\n",
    "# Step 2: Adjust the minimum value by adding 1\n",
    "adjusted_min_value_home = abs(min_value_home_value) + 1\n",
    "\n",
    "# Step 3: Add this adjusted value to all values in the column\n",
    "df_2022['change_median_home_value'] += adjusted_min_value_home\n",
    "\n"
   ],
   "id": "110c3c11cc00877c",
   "outputs": [],
   "execution_count": 306
  },
  {
   "metadata": {
    "ExecuteTime": {
     "end_time": "2024-05-17T11:34:20.130837Z",
     "start_time": "2024-05-17T11:34:20.122028Z"
    }
   },
   "cell_type": "code",
   "source": [
    "#scale the change_median_bachelor_edu and change_median_home_value columns by dividing by the maximum value in the column\n",
    "df_2022['change_median_bachelor_edu'] = df_2022['change_median_bachelor_edu'] / df_2022['change_median_bachelor_edu'].max()\n",
    "df_2022['change_median_home_value'] = df_2022['change_median_home_value'] / df_2022['change_median_home_value'].max()"
   ],
   "id": "def93d74b7ddc745",
   "outputs": [],
   "execution_count": 307
  },
  {
   "metadata": {
    "ExecuteTime": {
     "end_time": "2024-05-17T11:34:23.522954Z",
     "start_time": "2024-05-17T11:34:23.513585Z"
    }
   },
   "cell_type": "code",
   "source": [
    "#create new column called gentrification_index where we will multiply the two change columns\n",
    "df_2022['gentrification_index'] = df_2022['change_median_bachelor_edu'] * df_2022['change_median_home_value']\n",
    "\n"
   ],
   "id": "555891bcf32d6a19",
   "outputs": [],
   "execution_count": 308
  },
  {
   "metadata": {
    "ExecuteTime": {
     "end_time": "2024-05-17T11:34:25.323762Z",
     "start_time": "2024-05-17T11:34:25.299732Z"
    }
   },
   "cell_type": "code",
   "source": "df_2022.head()",
   "id": "5ba87ce099e3c923",
   "outputs": [
    {
     "data": {
      "text/plain": [
       "  STATE COUNTY                      NAME  median_bachelor_edu  \\\n",
       "0    13    001   Appling County, Georgia                  676   \n",
       "1    13    003  Atkinson County, Georgia                  306   \n",
       "2    13    005     Bacon County, Georgia                  373   \n",
       "3    13    007     Baker County, Georgia                  227   \n",
       "4    13    009   Baldwin County, Georgia                 3770   \n",
       "\n",
       "   median_home_value                                           geometry  year  \\\n",
       "0              88500  POLYGON ((-82.55069 31.74911, -82.54744 31.749...  2022   \n",
       "1              77100  POLYGON ((-83.14100 31.40673, -83.13898 31.408...  2022   \n",
       "2              95600  POLYGON ((-82.62819 31.56593, -82.62734 31.672...  2022   \n",
       "3             121600  POLYGON ((-84.64166 31.31250, -84.63994 31.312...  2022   \n",
       "4             154400  POLYGON ((-83.42674 33.18273, -83.42496 33.182...  2022   \n",
       "\n",
       "   change_median_bachelor_edu  change_median_home_value  gentrification_index  \n",
       "0                    0.005771                  0.295071              0.001703  \n",
       "1                    0.003517                  0.281585              0.000990  \n",
       "2                    0.003274                  0.291970              0.000956  \n",
       "3                    0.002732                  0.323265              0.000883  \n",
       "4                    0.003637                  0.277029              0.001008  "
      ],
      "text/html": [
       "<div>\n",
       "<style scoped>\n",
       "    .dataframe tbody tr th:only-of-type {\n",
       "        vertical-align: middle;\n",
       "    }\n",
       "\n",
       "    .dataframe tbody tr th {\n",
       "        vertical-align: top;\n",
       "    }\n",
       "\n",
       "    .dataframe thead th {\n",
       "        text-align: right;\n",
       "    }\n",
       "</style>\n",
       "<table border=\"1\" class=\"dataframe\">\n",
       "  <thead>\n",
       "    <tr style=\"text-align: right;\">\n",
       "      <th></th>\n",
       "      <th>STATE</th>\n",
       "      <th>COUNTY</th>\n",
       "      <th>NAME</th>\n",
       "      <th>median_bachelor_edu</th>\n",
       "      <th>median_home_value</th>\n",
       "      <th>geometry</th>\n",
       "      <th>year</th>\n",
       "      <th>change_median_bachelor_edu</th>\n",
       "      <th>change_median_home_value</th>\n",
       "      <th>gentrification_index</th>\n",
       "    </tr>\n",
       "  </thead>\n",
       "  <tbody>\n",
       "    <tr>\n",
       "      <th>0</th>\n",
       "      <td>13</td>\n",
       "      <td>001</td>\n",
       "      <td>Appling County, Georgia</td>\n",
       "      <td>676</td>\n",
       "      <td>88500</td>\n",
       "      <td>POLYGON ((-82.55069 31.74911, -82.54744 31.749...</td>\n",
       "      <td>2022</td>\n",
       "      <td>0.005771</td>\n",
       "      <td>0.295071</td>\n",
       "      <td>0.001703</td>\n",
       "    </tr>\n",
       "    <tr>\n",
       "      <th>1</th>\n",
       "      <td>13</td>\n",
       "      <td>003</td>\n",
       "      <td>Atkinson County, Georgia</td>\n",
       "      <td>306</td>\n",
       "      <td>77100</td>\n",
       "      <td>POLYGON ((-83.14100 31.40673, -83.13898 31.408...</td>\n",
       "      <td>2022</td>\n",
       "      <td>0.003517</td>\n",
       "      <td>0.281585</td>\n",
       "      <td>0.000990</td>\n",
       "    </tr>\n",
       "    <tr>\n",
       "      <th>2</th>\n",
       "      <td>13</td>\n",
       "      <td>005</td>\n",
       "      <td>Bacon County, Georgia</td>\n",
       "      <td>373</td>\n",
       "      <td>95600</td>\n",
       "      <td>POLYGON ((-82.62819 31.56593, -82.62734 31.672...</td>\n",
       "      <td>2022</td>\n",
       "      <td>0.003274</td>\n",
       "      <td>0.291970</td>\n",
       "      <td>0.000956</td>\n",
       "    </tr>\n",
       "    <tr>\n",
       "      <th>3</th>\n",
       "      <td>13</td>\n",
       "      <td>007</td>\n",
       "      <td>Baker County, Georgia</td>\n",
       "      <td>227</td>\n",
       "      <td>121600</td>\n",
       "      <td>POLYGON ((-84.64166 31.31250, -84.63994 31.312...</td>\n",
       "      <td>2022</td>\n",
       "      <td>0.002732</td>\n",
       "      <td>0.323265</td>\n",
       "      <td>0.000883</td>\n",
       "    </tr>\n",
       "    <tr>\n",
       "      <th>4</th>\n",
       "      <td>13</td>\n",
       "      <td>009</td>\n",
       "      <td>Baldwin County, Georgia</td>\n",
       "      <td>3770</td>\n",
       "      <td>154400</td>\n",
       "      <td>POLYGON ((-83.42674 33.18273, -83.42496 33.182...</td>\n",
       "      <td>2022</td>\n",
       "      <td>0.003637</td>\n",
       "      <td>0.277029</td>\n",
       "      <td>0.001008</td>\n",
       "    </tr>\n",
       "  </tbody>\n",
       "</table>\n",
       "</div>"
      ]
     },
     "execution_count": 309,
     "metadata": {},
     "output_type": "execute_result"
    }
   ],
   "execution_count": 309
  },
  {
   "metadata": {
    "ExecuteTime": {
     "end_time": "2024-05-17T11:34:28.710671Z",
     "start_time": "2024-05-17T11:34:28.676184Z"
    }
   },
   "cell_type": "code",
   "source": "df_2022.describe()",
   "id": "7ae488f697efa021",
   "outputs": [
    {
     "data": {
      "text/plain": [
       "       median_bachelor_edu  median_home_value    year  \\\n",
       "count           159.000000         159.000000   159.0   \n",
       "mean           9211.251572      165625.786164  2022.0   \n",
       "std           28723.604828       76881.856771     0.0   \n",
       "min              86.000000       65300.000000  2022.0   \n",
       "25%             648.500000      106050.000000  2022.0   \n",
       "50%            1671.000000      149400.000000  2022.0   \n",
       "75%            5264.000000      206450.000000  2022.0   \n",
       "max          242267.000000      451100.000000  2022.0   \n",
       "\n",
       "       change_median_bachelor_edu  change_median_home_value  \\\n",
       "count                  159.000000                159.000000   \n",
       "mean                     0.027109                  0.363840   \n",
       "std                      0.089827                  0.175393   \n",
       "min                      0.002275                  0.164815   \n",
       "25%                      0.002963                  0.240264   \n",
       "50%                      0.004859                  0.308125   \n",
       "75%                      0.012439                  0.438716   \n",
       "max                      1.000000                  1.000000   \n",
       "\n",
       "       gentrification_index  \n",
       "count            159.000000  \n",
       "mean               0.016540  \n",
       "std                0.064204  \n",
       "min                0.000398  \n",
       "25%                0.000726  \n",
       "50%                0.001393  \n",
       "75%                0.005213  \n",
       "max                0.729943  "
      ],
      "text/html": [
       "<div>\n",
       "<style scoped>\n",
       "    .dataframe tbody tr th:only-of-type {\n",
       "        vertical-align: middle;\n",
       "    }\n",
       "\n",
       "    .dataframe tbody tr th {\n",
       "        vertical-align: top;\n",
       "    }\n",
       "\n",
       "    .dataframe thead th {\n",
       "        text-align: right;\n",
       "    }\n",
       "</style>\n",
       "<table border=\"1\" class=\"dataframe\">\n",
       "  <thead>\n",
       "    <tr style=\"text-align: right;\">\n",
       "      <th></th>\n",
       "      <th>median_bachelor_edu</th>\n",
       "      <th>median_home_value</th>\n",
       "      <th>year</th>\n",
       "      <th>change_median_bachelor_edu</th>\n",
       "      <th>change_median_home_value</th>\n",
       "      <th>gentrification_index</th>\n",
       "    </tr>\n",
       "  </thead>\n",
       "  <tbody>\n",
       "    <tr>\n",
       "      <th>count</th>\n",
       "      <td>159.000000</td>\n",
       "      <td>159.000000</td>\n",
       "      <td>159.0</td>\n",
       "      <td>159.000000</td>\n",
       "      <td>159.000000</td>\n",
       "      <td>159.000000</td>\n",
       "    </tr>\n",
       "    <tr>\n",
       "      <th>mean</th>\n",
       "      <td>9211.251572</td>\n",
       "      <td>165625.786164</td>\n",
       "      <td>2022.0</td>\n",
       "      <td>0.027109</td>\n",
       "      <td>0.363840</td>\n",
       "      <td>0.016540</td>\n",
       "    </tr>\n",
       "    <tr>\n",
       "      <th>std</th>\n",
       "      <td>28723.604828</td>\n",
       "      <td>76881.856771</td>\n",
       "      <td>0.0</td>\n",
       "      <td>0.089827</td>\n",
       "      <td>0.175393</td>\n",
       "      <td>0.064204</td>\n",
       "    </tr>\n",
       "    <tr>\n",
       "      <th>min</th>\n",
       "      <td>86.000000</td>\n",
       "      <td>65300.000000</td>\n",
       "      <td>2022.0</td>\n",
       "      <td>0.002275</td>\n",
       "      <td>0.164815</td>\n",
       "      <td>0.000398</td>\n",
       "    </tr>\n",
       "    <tr>\n",
       "      <th>25%</th>\n",
       "      <td>648.500000</td>\n",
       "      <td>106050.000000</td>\n",
       "      <td>2022.0</td>\n",
       "      <td>0.002963</td>\n",
       "      <td>0.240264</td>\n",
       "      <td>0.000726</td>\n",
       "    </tr>\n",
       "    <tr>\n",
       "      <th>50%</th>\n",
       "      <td>1671.000000</td>\n",
       "      <td>149400.000000</td>\n",
       "      <td>2022.0</td>\n",
       "      <td>0.004859</td>\n",
       "      <td>0.308125</td>\n",
       "      <td>0.001393</td>\n",
       "    </tr>\n",
       "    <tr>\n",
       "      <th>75%</th>\n",
       "      <td>5264.000000</td>\n",
       "      <td>206450.000000</td>\n",
       "      <td>2022.0</td>\n",
       "      <td>0.012439</td>\n",
       "      <td>0.438716</td>\n",
       "      <td>0.005213</td>\n",
       "    </tr>\n",
       "    <tr>\n",
       "      <th>max</th>\n",
       "      <td>242267.000000</td>\n",
       "      <td>451100.000000</td>\n",
       "      <td>2022.0</td>\n",
       "      <td>1.000000</td>\n",
       "      <td>1.000000</td>\n",
       "      <td>0.729943</td>\n",
       "    </tr>\n",
       "  </tbody>\n",
       "</table>\n",
       "</div>"
      ]
     },
     "execution_count": 310,
     "metadata": {},
     "output_type": "execute_result"
    }
   ],
   "execution_count": 310
  },
  {
   "metadata": {
    "ExecuteTime": {
     "end_time": "2024-05-17T11:34:30.894528Z",
     "start_time": "2024-05-17T11:34:30.880152Z"
    }
   },
   "cell_type": "code",
   "source": [
    "# One hot encoding for the NAME column and put in 0 if false and 1 if true\n",
    "df_2022 = pd.get_dummies(df_2022, columns=['NAME'])\n",
    "\n",
    "#rename new columns by removing the NAME_ prefix\n",
    "df_2022.columns = df_2022.columns.str.replace('NAME_', '')"
   ],
   "id": "a218c39fddf0924b",
   "outputs": [],
   "execution_count": 311
  },
  {
   "metadata": {
    "ExecuteTime": {
     "end_time": "2024-05-17T11:34:52.837846Z",
     "start_time": "2024-05-17T11:34:52.831348Z"
    }
   },
   "cell_type": "code",
   "source": [
    "#drop columns that are not needed\n",
    "df_2022 = df_2022.drop(columns=['geometry', 'STATE', 'COUNTY', 'year', 'median_bachelor_edu', 'median_home_value', 'change_median_bachelor_edu', 'change_median_home_value'])"
   ],
   "id": "224c63958661b95a",
   "outputs": [],
   "execution_count": 313
  },
  {
   "metadata": {
    "ExecuteTime": {
     "end_time": "2024-05-17T11:35:26.299605Z",
     "start_time": "2024-05-17T11:35:26.287722Z"
    }
   },
   "cell_type": "code",
   "source": [
    "#split the data in training and test\n",
    "\n",
    "X = df_2022.drop(columns=['gentrification_index'])\n",
    "y = df_2022['gentrification_index']\n",
    "\n",
    "X_train, X_test, y_train, y_test = train_test_split(X, y, test_size=0.2, random_state=42)\n"
   ],
   "id": "cff067aa0426b128",
   "outputs": [],
   "execution_count": 314
  },
  {
   "metadata": {
    "ExecuteTime": {
     "end_time": "2024-05-17T11:35:28.773899Z",
     "start_time": "2024-05-17T11:35:27.804888Z"
    }
   },
   "cell_type": "code",
   "source": [
    "#initialize the models\n",
    "rf = RandomForestRegressor()\n",
    "lr = LinearRegression()\n",
    "\n",
    "#fit the models\n",
    "rf.fit(X_train, y_train)\n",
    "lr.fit(X_train, y_train)\n",
    "\n",
    "#predict\n",
    "rf_pred = rf.predict(X_test)\n",
    "lr_pred = lr.predict(X_test)"
   ],
   "id": "c87d7098ddcd571f",
   "outputs": [],
   "execution_count": 315
  },
  {
   "metadata": {
    "ExecuteTime": {
     "end_time": "2024-05-17T11:35:31.819240Z",
     "start_time": "2024-05-17T11:35:31.811933Z"
    }
   },
   "cell_type": "code",
   "source": [
    "#Evaluate the models\n",
    "\n",
    "#calculate the percentage error\n",
    "rf_error = abs(rf_pred - y_test) / y_test\n",
    "lr_error = abs(lr_pred - y_test) / y_test\n",
    "\n",
    "#calculate the mean percentage error\n",
    "rf_mean_error = rf_error.mean()\n",
    "lr_mean_error = lr_error.mean()\n",
    "\n",
    "print(f'Random Forest Mean Percentage Error: {rf_mean_error}')\n",
    "\n",
    "print(f'Linear Regression Mean Percentage Error: {lr_mean_error}')"
   ],
   "id": "f669397fa63717f3",
   "outputs": [
    {
     "name": "stdout",
     "output_type": "stream",
     "text": [
      "Random Forest Mean Percentage Error: 0.566122175328132\n",
      "Linear Regression Mean Percentage Error: 32.51564780596694\n"
     ]
    }
   ],
   "execution_count": 316
  }
 ],
 "metadata": {
  "kernelspec": {
   "display_name": "Python 3",
   "language": "python",
   "name": "python3"
  },
  "language_info": {
   "codemirror_mode": {
    "name": "ipython",
    "version": 2
   },
   "file_extension": ".py",
   "mimetype": "text/x-python",
   "name": "python",
   "nbconvert_exporter": "python",
   "pygments_lexer": "ipython2",
   "version": "2.7.6"
  }
 },
 "nbformat": 4,
 "nbformat_minor": 5
}
